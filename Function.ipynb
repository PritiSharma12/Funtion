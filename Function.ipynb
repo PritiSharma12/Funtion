{
  "nbformat": 4,
  "nbformat_minor": 0,
  "metadata": {
    "colab": {
      "provenance": []
    },
    "kernelspec": {
      "name": "python3",
      "display_name": "Python 3"
    },
    "language_info": {
      "name": "python"
    }
  },
  "cells": [
    {
      "cell_type": "markdown",
      "source": [
        "# Funtions\n",
        "\n",
        "\n"
      ],
      "metadata": {
        "id": "yE7Ivg-VOxEw"
      }
    },
    {
      "cell_type": "markdown",
      "source": [
        "# Practical Questions and Answers :"
      ],
      "metadata": {
        "id": "iBb82NdBNv03"
      }
    },
    {
      "cell_type": "code",
      "execution_count": 1,
      "metadata": {
        "colab": {
          "base_uri": "https://localhost:8080/"
        },
        "id": "tDd2Ryc-ibmR",
        "outputId": "ed6d4cf5-b126-424d-bc2c-527aa0447c4d"
      },
      "outputs": [
        {
          "output_type": "stream",
          "name": "stdout",
          "text": [
            "Sum of even numbers: 12\n"
          ]
        }
      ],
      "source": [
        "### Q1. Write a Python function that takes a list of numbers as input and returns the sum of all even numbers in\n",
        "        the list.\n",
        "\n",
        "#Answer :\n",
        "\n",
        "def sum_of_evens(numbers):\n",
        "    \"\"\"\n",
        "    Calculate the sum of all even numbers in a list.\n",
        "\n",
        "    :param numbers: List of numbers\n",
        "    :return: Sum of even numbers in the list\n",
        "    \"\"\"\n",
        "    return sum(num for num in numbers if num % 2 == 0)\n",
        "\n",
        "# Example usage:\n",
        "numbers = [1, 2, 3, 4, 5, 6]\n",
        "result = sum_of_evens(numbers)\n",
        "print(\"Sum of even numbers:\", result)"
      ]
    },
    {
      "cell_type": "code",
      "source": [
        "### Q2. Create a Python function that accepts a string and returns the reverse of that string.\n",
        "\n",
        "#Answer :\n",
        "\n",
        "def reverse_string(s):\n",
        "    \"\"\"\n",
        "    Reverse the input string.\n",
        "\n",
        "    :param s: The string to reverse\n",
        "    :return: The reversed string\n",
        "    \"\"\"\n",
        "    return s[::-1]\n",
        "\n",
        "# Example usage:\n",
        "text = \"hello\"\n",
        "result = reverse_string(text)\n",
        "print(\"Reversed string:\", result)"
      ],
      "metadata": {
        "colab": {
          "base_uri": "https://localhost:8080/"
        },
        "id": "GRvw3RihmFSL",
        "outputId": "05f7d061-074f-433b-b53d-b115aec9812c"
      },
      "execution_count": 15,
      "outputs": [
        {
          "output_type": "stream",
          "name": "stdout",
          "text": [
            "Reversed string: olleh\n"
          ]
        }
      ]
    },
    {
      "cell_type": "code",
      "source": [
        "### Q3. Implement a Python function that takes a list of integers and returns a new list containing the squares of\n",
        "        each number.\n",
        "\n",
        "#Answer :\n",
        "\n",
        "def square_numbers(numbers):\n",
        "    \"\"\"\n",
        "    Return a new list containing the squares of each number in the input list.\n",
        "\n",
        "    :param numbers: List of integers\n",
        "    :return: List of squares of the integers\n",
        "    \"\"\"\n",
        "    return [num ** 2 for num in numbers]\n",
        "\n",
        "# Example usage:\n",
        "numbers = [1, 2, 3, 4, 5]\n",
        "result = square_numbers(numbers)\n",
        "print(\"Squared numbers:\", result)"
      ],
      "metadata": {
        "colab": {
          "base_uri": "https://localhost:8080/"
        },
        "id": "TzVDVXWll9Ay",
        "outputId": "13a33de7-b995-4703-8e9d-59cb96647290"
      },
      "execution_count": 14,
      "outputs": [
        {
          "output_type": "stream",
          "name": "stdout",
          "text": [
            "Squared numbers: [1, 4, 9, 16, 25]\n"
          ]
        }
      ]
    },
    {
      "cell_type": "code",
      "source": [
        "### Q4.Write a Python function that checks if a given number is prime or not from 1 to 200\n",
        "\n",
        "#Answer :\n",
        "\n",
        "def is_prime(number):\n",
        "    \"\"\"\n",
        "    Check if a number is prime.\n",
        "\n",
        "    :param number: The number to check\n",
        "    :return: True if the number is prime, False otherwise\n",
        "    \"\"\"\n",
        "    if number < 2:\n",
        "        return False\n",
        "    for i in range(2, int(number ** 0.5) + 1):\n",
        "        if number % i == 0:\n",
        "            return False\n",
        "    return True\n",
        "\n",
        "# Check prime numbers from 1 to 200\n",
        "for num in range(1, 201):\n",
        "    if is_prime(num):\n",
        "        print(f\"{num} is a prime number.\")"
      ],
      "metadata": {
        "colab": {
          "base_uri": "https://localhost:8080/"
        },
        "id": "flHoVRgFmB5y",
        "outputId": "bbfdf6f2-f2d0-48c1-b5bf-cb2a1b31a903"
      },
      "execution_count": 16,
      "outputs": [
        {
          "output_type": "stream",
          "name": "stdout",
          "text": [
            "2 is a prime number.\n",
            "3 is a prime number.\n",
            "5 is a prime number.\n",
            "7 is a prime number.\n",
            "11 is a prime number.\n",
            "13 is a prime number.\n",
            "17 is a prime number.\n",
            "19 is a prime number.\n",
            "23 is a prime number.\n",
            "29 is a prime number.\n",
            "31 is a prime number.\n",
            "37 is a prime number.\n",
            "41 is a prime number.\n",
            "43 is a prime number.\n",
            "47 is a prime number.\n",
            "53 is a prime number.\n",
            "59 is a prime number.\n",
            "61 is a prime number.\n",
            "67 is a prime number.\n",
            "71 is a prime number.\n",
            "73 is a prime number.\n",
            "79 is a prime number.\n",
            "83 is a prime number.\n",
            "89 is a prime number.\n",
            "97 is a prime number.\n",
            "101 is a prime number.\n",
            "103 is a prime number.\n",
            "107 is a prime number.\n",
            "109 is a prime number.\n",
            "113 is a prime number.\n",
            "127 is a prime number.\n",
            "131 is a prime number.\n",
            "137 is a prime number.\n",
            "139 is a prime number.\n",
            "149 is a prime number.\n",
            "151 is a prime number.\n",
            "157 is a prime number.\n",
            "163 is a prime number.\n",
            "167 is a prime number.\n",
            "173 is a prime number.\n",
            "179 is a prime number.\n",
            "181 is a prime number.\n",
            "191 is a prime number.\n",
            "193 is a prime number.\n",
            "197 is a prime number.\n",
            "199 is a prime number.\n"
          ]
        }
      ]
    },
    {
      "cell_type": "code",
      "source": [
        "### Q5. Create an iterator class in Python that generates the Fibonacci sequence up to a specified number of\n",
        "        terms.\n",
        "\n",
        "#Answer :\n",
        "\n",
        "class FibonacciIterator:\n",
        "    \"\"\"\n",
        "    An iterator to generate the Fibonacci sequence up to a specified number of terms.\n",
        "    \"\"\"\n",
        "    def __init__(self, terms):\n",
        "        \"\"\"\n",
        "        Initialize the iterator with the number of terms to generate.\n",
        "        :param terms: Number of terms to generate in the sequence\n",
        "        \"\"\"\n",
        "        self.terms = terms\n",
        "        self.current = 0\n",
        "        self.next = 1\n",
        "        self.count = 0\n",
        "\n",
        "    def __iter__(self):\n",
        "        return self\n",
        "\n",
        "    def __next__(self):\n",
        "        if self.count >= self.terms:\n",
        "            raise StopIteration\n",
        "        if self.count == 0:\n",
        "            self.count += 1\n",
        "            return 0\n",
        "        elif self.count == 1:\n",
        "            self.count += 1\n",
        "            return 1\n",
        "        else:\n",
        "            fib = self.current + self.next\n",
        "            self.current, self.next = self.next, fib\n",
        "            self.count += 1\n",
        "            return fib\n",
        "\n",
        "# Example usage:\n",
        "fib_iterator = FibonacciIterator(10)\n",
        "for number in fib_iterator:\n",
        "    print(number, end=\" \")"
      ],
      "metadata": {
        "colab": {
          "base_uri": "https://localhost:8080/"
        },
        "id": "WIid3RjomSh5",
        "outputId": "22ec6fc8-1f6d-4de2-f0eb-c7f7b4a9c016"
      },
      "execution_count": 17,
      "outputs": [
        {
          "output_type": "stream",
          "name": "stdout",
          "text": [
            "0 1 1 2 3 5 8 13 21 34 "
          ]
        }
      ]
    },
    {
      "cell_type": "code",
      "source": [
        "### Q6. Write a generator function in Python that yields the powers of 2 up to a given exponent.\n",
        "\n",
        "#Answer :\n",
        "\n",
        "def powers_of_two(max_exponent):\n",
        "    \"\"\"\n",
        "    Generate powers of 2 up to the given exponent.\n",
        "\n",
        "    :param max_exponent: The maximum exponent to generate powers for (inclusive)\n",
        "    :yield: 2 raised to the power of the current exponent\n",
        "    \"\"\"\n",
        "    for exponent in range(max_exponent + 1):\n",
        "        yield 2 ** exponent\n",
        "\n",
        "# Example usage:\n",
        "for power in powers_of_two(5):\n",
        "    print(power, end=\" \")"
      ],
      "metadata": {
        "colab": {
          "base_uri": "https://localhost:8080/"
        },
        "id": "QPYRsm7CnkNc",
        "outputId": "02e5df92-1ccc-47bf-98df-9a65a5e054e4"
      },
      "execution_count": 18,
      "outputs": [
        {
          "output_type": "stream",
          "name": "stdout",
          "text": [
            "1 2 4 8 16 32 "
          ]
        }
      ]
    },
    {
      "cell_type": "code",
      "source": [
        "### Q7. Implement a generator function that reads a file line by line and yields each line as a string.\n",
        "\n",
        "#Answer :\n",
        "\n",
        "def read_file_by_line(file_path):\n",
        "    \"\"\"\n",
        "    Generator function to read a file line by line.\n",
        "\n",
        "    :param file_path: Path to the file to read\n",
        "    :yield: Each line of the file as a string\n",
        "    \"\"\"\n",
        "    try:\n",
        "        with open(file_path, 'r') as file:\n",
        "            for line in file:\n",
        "                yield line.rstrip('\\n')\n",
        "    except FileNotFoundError:\n",
        "        print(f\"Error: The file '{file_path}' was not found.\")\n",
        "    except Exception as e:\n",
        "        print(f\"An error occurred: {e}\")\n",
        "\n",
        "# Example usage:\n",
        "# Save the following lines in a file named \"example.txt\" for testing:\n",
        "# Line 1\n",
        "# Line 2\n",
        "# Line 3\n",
        "\n",
        "file_path = \"example.txt\"\n",
        "for line in read_file_by_line(file_path):\n",
        "    print(line)"
      ],
      "metadata": {
        "colab": {
          "base_uri": "https://localhost:8080/"
        },
        "id": "lTnaAXazoWma",
        "outputId": "39d7cc9c-2b8f-41ed-8064-e19d81de4e16"
      },
      "execution_count": 19,
      "outputs": [
        {
          "output_type": "stream",
          "name": "stdout",
          "text": [
            "Error: The file 'example.txt' was not found.\n"
          ]
        }
      ]
    },
    {
      "cell_type": "code",
      "source": [
        "### Q8. Use a lambda function in Python to sort a list of tuples based on the second element of each tuple.\n",
        "\n",
        "#Answer :\n",
        "\n",
        "# List of tuples\n",
        "tuples_list = [(1, 5), (3, 2), (4, 8), (2, 3)]\n",
        "\n",
        "# Sort using a lambda function\n",
        "sorted_list = sorted(tuples_list, key=lambda x: x[1])\n",
        "\n",
        "# Print the sorted list\n",
        "print(\"Sorted list:\", sorted_list)"
      ],
      "metadata": {
        "colab": {
          "base_uri": "https://localhost:8080/"
        },
        "id": "nTIONszrpY-5",
        "outputId": "4bbbceda-73eb-4e06-fa86-a56828abf25f"
      },
      "execution_count": 20,
      "outputs": [
        {
          "output_type": "stream",
          "name": "stdout",
          "text": [
            "Sorted list: [(3, 2), (2, 3), (1, 5), (4, 8)]\n"
          ]
        }
      ]
    },
    {
      "cell_type": "code",
      "source": [
        "### Q9. Write a Python program that uses `map()` to convert a list of temperatures from Celsius to Fahrenheit.\n",
        "\n",
        "#Answer :\n",
        "# List of temperatures in Celsius\n",
        "celsius_temperatures = [0, 20, 30, 40, 100]\n",
        "\n",
        "# Convert Celsius to Fahrenheit using map\n",
        "fahrenheit_temperatures = list(map(lambda c: (c * 9/5) + 32, celsius_temperatures))\n",
        "\n",
        "# Print the converted temperatures\n",
        "print(\"Temperatures in Fahrenheit:\", fahrenheit_temperatures)"
      ],
      "metadata": {
        "colab": {
          "base_uri": "https://localhost:8080/"
        },
        "id": "0pZ96IT_pp1B",
        "outputId": "174fd3e2-8fd1-4d6e-c49a-5baeb7e6f285"
      },
      "execution_count": 21,
      "outputs": [
        {
          "output_type": "stream",
          "name": "stdout",
          "text": [
            "Temperatures in Fahrenheit: [32.0, 68.0, 86.0, 104.0, 212.0]\n"
          ]
        }
      ]
    },
    {
      "cell_type": "code",
      "source": [
        "### Q10. Create a Python program that uses `filter()` to remove all the vowels from a given string.\n",
        "\n",
        "#Answer :\n",
        "\n",
        "def remove_vowels(input_string):\n",
        "    \"\"\"\n",
        "    Remove all vowels from the input string.\n",
        "\n",
        "    :param input_string: The string to process\n",
        "    :return: A string with vowels removed\n",
        "    \"\"\"\n",
        "    vowels = \"aeiouAEIOU\"\n",
        "    return \"\".join(filter(lambda char: char not in vowels, input_string))\n",
        "\n",
        "# Example usage\n",
        "input_string = \"Hello, how are you?\"\n",
        "result = remove_vowels(input_string)\n",
        "print(\"String without vowels:\", result)"
      ],
      "metadata": {
        "colab": {
          "base_uri": "https://localhost:8080/"
        },
        "id": "L-E26OxvqD_R",
        "outputId": "ee161993-c423-426a-8cbf-c419a45dc360"
      },
      "execution_count": 22,
      "outputs": [
        {
          "output_type": "stream",
          "name": "stdout",
          "text": [
            "String without vowels: Hll, hw r y?\n"
          ]
        }
      ]
    },
    {
      "cell_type": "code",
      "source": [
        "### Q11. Imagine an accounting routine used in a book shop. It works on a list with sublists, which look like this:\n",
        "\n",
        "Order no.           Book title and author                   Quantity      Price per item\n",
        "\n",
        "34587              Learning Python, Mark lutz                 4                  40.95\n",
        "98762              Programming Python, Mark lutz              5                  56.80\n",
        "77226              Head first Python, Paul Barry              3                  32.95\n",
        "88112              Einführung in python 3, Bernd Klein        3                  24.99\n",
        "\n",
        "Write a Python program, which returns a list with 2-tuples. Each tuple consists of the order number and the\n",
        "product of the price per item and the quantity. The product should be increased by 10,- € if the value of the\n",
        "order is smaller than 100,00 €.\n",
        "\n",
        "#Answer :\n",
        "\n",
        "# List of orders where each sublist contains: [order_number, book_title_and_author, quantity, price_per_item]\n",
        "orders = [\n",
        "    [34587, \"Learning Python, Mark Lutz\", 4, 40.95],\n",
        "    [98762, \"Programming Python, Mark Lutz\", 5, 56.80],\n",
        "    [77226, \"Head First Python, Paul Barry\", 3, 32.95],\n",
        "    [88112, \"Einführung in Python 3, Bernd Klein\", 3, 24.99]\n",
        "]\n",
        "\n",
        "# Function to calculate order totals with adjustments\n",
        "result = [\n",
        "    (order[0], (order[2] * order[3]) + 10 if (order[2] * order[3]) < 100 else order[2] * order[3])\n",
        "    for order in orders\n",
        "]\n",
        "\n",
        "# Print the result\n",
        "print(result)\n"
      ],
      "metadata": {
        "colab": {
          "base_uri": "https://localhost:8080/"
        },
        "id": "6OUgkt_nvCBh",
        "outputId": "00b66609-103b-45d5-a0e6-17ee1898f745"
      },
      "execution_count": 27,
      "outputs": [
        {
          "output_type": "stream",
          "name": "stdout",
          "text": [
            "[(34587, 163.8), (98762, 284.0), (77226, 108.85000000000001), (88112, 84.97)]\n"
          ]
        }
      ]
    },
    {
      "cell_type": "code",
      "source": [
        "### Write a Python program using lambda and map.\n",
        "\n",
        "#Answer :\n",
        "\n",
        "# List of orders where each sublist contains [order_number, book_title_and_author, quantity, price_per_item]\n",
        "orders = [\n",
        "    [34587, \"Learning Python, Mark Lutz\", 4, 40.95],\n",
        "    [98762, \"Programming Python, Mark Lutz\", 5, 56.80],\n",
        "    [77226, \"Head First Python, Paul Barry\", 3, 32.95],\n",
        "    [88112, \"Einführung in Python 3, Bernd Klein\", 3, 24.99]\n",
        "]\n",
        "\n",
        "# Use map and lambda to calculate total price per order and adjust if necessary\n",
        "result = list(map(lambda order: (order[0], (order[2] * order[3]) + 10 if (order[2] * order[3]) < 100 else order[2] * order[3]), orders))\n",
        "\n",
        "# Print the result\n",
        "print(result)\n"
      ],
      "metadata": {
        "colab": {
          "base_uri": "https://localhost:8080/"
        },
        "id": "7GKXQnIKvVPY",
        "outputId": "dfc36040-f62a-4f1a-a673-738bae15efd7"
      },
      "execution_count": 28,
      "outputs": [
        {
          "output_type": "stream",
          "name": "stdout",
          "text": [
            "[(34587, 163.8), (98762, 284.0), (77226, 108.85000000000001), (88112, 84.97)]\n"
          ]
        }
      ]
    }
  ]
}